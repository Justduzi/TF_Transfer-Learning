{
  "nbformat": 4,
  "nbformat_minor": 0,
  "metadata": {
    "colab": {
      "provenance": []
    },
    "kernelspec": {
      "name": "python3",
      "display_name": "Python 3"
    },
    "language_info": {
      "name": "python"
    },
    "accelerator": "GPU"
  },
  "cells": [
    {
      "cell_type": "markdown",
      "source": [
        " #Transfer learning with tensorflow \n",
        "Transfer learning is leveraging a working model existing architecture and learning patterns for our own problem\n",
        "there are two main benefits:\n",
        "1. Can leverage an existing neural network architecture proven to work on problems "
      ],
      "metadata": {
        "id": "xtL0PJDDMfpU"
      }
    },
    {
      "cell_type": "code",
      "source": [
        "##downloading and becoming one with the data \n",
        "import zipfile\n",
        "!wget = https://storage.googleapis.com/ztm_tf_course/food_vision/10_food_classes_10_percent.zip\n",
        "\n",
        "#unzip\n",
        "zip_ref = zipfile.ZipFile(\"10_food_classes_10_percent.zip\")\n",
        "zip_ref.extractall()\n",
        "zip_ref.close()"
      ],
      "metadata": {
        "colab": {
          "base_uri": "https://localhost:8080/"
        },
        "id": "2sTOVunCPyiv",
        "outputId": "36990727-5fde-4e94-e2a3-335f51f8f134"
      },
      "execution_count": null,
      "outputs": [
        {
          "output_type": "stream",
          "name": "stdout",
          "text": [
            "--2022-10-04 08:41:27--  http://=/\n",
            "Resolving = (=)... failed: Name or service not known.\n",
            "wget: unable to resolve host address ‘=’\n",
            "--2022-10-04 08:41:27--  https://storage.googleapis.com/ztm_tf_course/food_vision/10_food_classes_10_percent.zip\n",
            "Resolving storage.googleapis.com (storage.googleapis.com)... 74.125.200.128, 74.125.130.128, 142.250.4.128, ...\n",
            "Connecting to storage.googleapis.com (storage.googleapis.com)|74.125.200.128|:443... connected.\n",
            "HTTP request sent, awaiting response... 200 OK\n",
            "Length: 168546183 (161M) [application/zip]\n",
            "Saving to: ‘10_food_classes_10_percent.zip’\n",
            "\n",
            "10_food_classes_10_ 100%[===================>] 160.74M  48.1MB/s    in 3.3s    \n",
            "\n",
            "2022-10-04 08:41:31 (48.1 MB/s) - ‘10_food_classes_10_percent.zip’ saved [168546183/168546183]\n",
            "\n",
            "FINISHED --2022-10-04 08:41:31--\n",
            "Total wall clock time: 4.1s\n",
            "Downloaded: 1 files, 161M in 3.3s (48.1 MB/s)\n"
          ]
        }
      ]
    },
    {
      "cell_type": "code",
      "source": [
        "import os\n",
        "\n",
        "for dirpath, dirnames, filenames in os.walk(\"10_food_classes_10_percent\"):\n",
        "  print(f\"There are {len(dirnames)} directories and {len(filenames)} images in '{dirpath}'.\")\n"
      ],
      "metadata": {
        "colab": {
          "base_uri": "https://localhost:8080/"
        },
        "id": "ylmlI73sRAGs",
        "outputId": "896fb6c6-9a35-4054-e2f3-3fc8556f1b69"
      },
      "execution_count": null,
      "outputs": [
        {
          "output_type": "stream",
          "name": "stdout",
          "text": [
            "There are 2 directories and 0 images in '10_food_classes_10_percent'.\n",
            "There are 10 directories and 0 images in '10_food_classes_10_percent/test'.\n",
            "There are 0 directories and 250 images in '10_food_classes_10_percent/test/grilled_salmon'.\n",
            "There are 0 directories and 250 images in '10_food_classes_10_percent/test/hamburger'.\n",
            "There are 0 directories and 250 images in '10_food_classes_10_percent/test/steak'.\n",
            "There are 0 directories and 250 images in '10_food_classes_10_percent/test/chicken_curry'.\n",
            "There are 0 directories and 250 images in '10_food_classes_10_percent/test/pizza'.\n",
            "There are 0 directories and 250 images in '10_food_classes_10_percent/test/chicken_wings'.\n",
            "There are 0 directories and 250 images in '10_food_classes_10_percent/test/ramen'.\n",
            "There are 0 directories and 250 images in '10_food_classes_10_percent/test/ice_cream'.\n",
            "There are 0 directories and 250 images in '10_food_classes_10_percent/test/fried_rice'.\n",
            "There are 0 directories and 250 images in '10_food_classes_10_percent/test/sushi'.\n",
            "There are 10 directories and 0 images in '10_food_classes_10_percent/train'.\n",
            "There are 0 directories and 75 images in '10_food_classes_10_percent/train/grilled_salmon'.\n",
            "There are 0 directories and 75 images in '10_food_classes_10_percent/train/hamburger'.\n",
            "There are 0 directories and 75 images in '10_food_classes_10_percent/train/steak'.\n",
            "There are 0 directories and 75 images in '10_food_classes_10_percent/train/chicken_curry'.\n",
            "There are 0 directories and 75 images in '10_food_classes_10_percent/train/pizza'.\n",
            "There are 0 directories and 75 images in '10_food_classes_10_percent/train/chicken_wings'.\n",
            "There are 0 directories and 75 images in '10_food_classes_10_percent/train/ramen'.\n",
            "There are 0 directories and 75 images in '10_food_classes_10_percent/train/ice_cream'.\n",
            "There are 0 directories and 75 images in '10_food_classes_10_percent/train/fried_rice'.\n",
            "There are 0 directories and 75 images in '10_food_classes_10_percent/train/sushi'.\n"
          ]
        }
      ]
    },
    {
      "cell_type": "markdown",
      "source": [
        "Creating data loaders(preparing the data)\n",
        "1.Well use the ImageDataGenerator class to load in our images in batches"
      ],
      "metadata": {
        "id": "2YLUiQeOVdkX"
      }
    },
    {
      "cell_type": "code",
      "source": [
        "from tensorflow.keras.preprocessing.image import ImageDataGenerator\n",
        "\n",
        "IMAGE_SHAPE = (224,224)\n",
        "BATCH_SIZE = 32\n",
        "\n",
        "train_dir = \"10_food_classes_10_percent/train/\"\n",
        "test_dir = \"10_food_classes_10_percent/test\"\n",
        "\n",
        "train_datagen = ImageDataGenerator(rescale=1/225)\n",
        "test_datagen = ImageDataGenerator(rescale=1/225)\n",
        "\n",
        "print(\"Training images:\")\n",
        "train_data_10_percent = train_datagen.flow_from_directory(train_dir, target_size=IMAGE_SHAPE,\n",
        "                                                          batch_size=BATCH_SIZE,\n",
        "                                                          class_mode=\"categorical\")\n",
        "print(\"Testing images:\")\n",
        "test_data_10_percent = test_datagen.flow_from_directory(test_dir, target_size=IMAGE_SHAPE,\n",
        "                                                        batch_size=BATCH_SIZE,\n",
        "                                                        class_mode=\"categorical\")\n"
      ],
      "metadata": {
        "colab": {
          "base_uri": "https://localhost:8080/"
        },
        "id": "FxN--V5KKG2X",
        "outputId": "aa223aad-ba69-41ad-b2a9-1c74c2376899"
      },
      "execution_count": null,
      "outputs": [
        {
          "output_type": "stream",
          "name": "stdout",
          "text": [
            "Training images:\n",
            "Found 750 images belonging to 10 classes.\n",
            "Testing images:\n",
            "Found 2500 images belonging to 10 classes.\n"
          ]
        }
      ]
    },
    {
      "cell_type": "markdown",
      "source": [
        "##setting up callbacks\n",
        "\n",
        "callback are extra functionality you can add to your models to be performed during or after training. some of thr ost popular callbacks:\n",
        "* Tracking experiments woth the TensorBoard callback\n",
        "* Model checkpoint with the ModelCheckpoint callback\n",
        "* stopping a model from training(before it trains too long and overfits) with Early Stopping callbacks"
      ],
      "metadata": {
        "id": "UHq9H63VLs3C"
      }
    },
    {
      "cell_type": "code",
      "source": [
        "# Create tensorboard callback (functionized because need to create a new one for each model)\n",
        "import datetime\n",
        "def create_tensorboard_callback(dir_name, experiment_name):\n",
        "  log_dir = dir_name + \"/\" + experiment_name + \"/\" + datetime.datetime.now().strftime(\"%Y%m%d-%H%M%S\")\n",
        "  tensorboard_callback = tf.keras.callbacks.TensorBoard(\n",
        "      log_dir=log_dir\n",
        "  )\n",
        "  print(f\"Saving TensorBoard log files to: {log_dir}\")\n",
        "  return tensorboard_callback"
      ],
      "metadata": {
        "id": "-PmaSD2xNt6y"
      },
      "execution_count": null,
      "outputs": []
    },
    {
      "cell_type": "code",
      "source": [
        "#lets compar the following two models\n",
        "resnet_url = \"https://tfhub.dev/google/imagenet/resnet_v2_50/feature_vector/4\"\n",
        "\n",
        "efficientsnet_url= \"https://tfhub.dev/google/efficientnet/b0/feature-vector/1\""
      ],
      "metadata": {
        "id": "xGieRkUOPV2N"
      },
      "execution_count": null,
      "outputs": []
    },
    {
      "cell_type": "code",
      "source": [
        "#Dependencies\n",
        "import tensorflow as tf\n",
        "import tensorflow_hub as hub\n",
        "from tensorflow.keras import layers"
      ],
      "metadata": {
        "id": "a24ilNTlTOtD"
      },
      "execution_count": null,
      "outputs": []
    },
    {
      "cell_type": "code",
      "source": [
        "#LEts make acreate model function\n",
        "def create_model(model_url, num_classes=10):\n",
        "   \"\"\"Takes a TensorFlow Hub URL and creates a Keras Sequential model with it.\n",
        "  \n",
        "  Args:\n",
        "    model_url (str): A TensorFlow Hub feature extraction URL.\n",
        "    num_classes (int): Number of output neurons in output layer,\n",
        "      should be equal to number of target classes, default 10.\n",
        "\n",
        "  Returns:\n",
        "    An uncompiled Keras Sequential model with model_url as feature\n",
        "    extractor layer and Dense output layer with num_classes outputs.\n",
        "  \"\"\"\n",
        "  #Download the pretrained model and save it as a keras layer\n",
        "   feature_extractor_layer = hub.KerasLayer(model_url,\n",
        "                                            trainable=False,\n",
        "                                             name=\"feature_extraction_layer\",\n",
        "                                             input_shape=IMAGE_SHAPE+(3,))\n",
        "   \n",
        "   #Create our own model\n",
        "   model = tf.keras.Sequential([\n",
        "      feature_extractor_layer,\n",
        "      layers.Dense(num_classes,activation=\"softmax\", name=\"output_layer\") \n",
        "   ])\n",
        "\n",
        "\n",
        "   return model"
      ],
      "metadata": {
        "id": "GM9Qvjz5TudK"
      },
      "execution_count": null,
      "outputs": []
    },
    {
      "cell_type": "markdown",
      "source": [
        "#### Creating and testing Resnet tensorflow hub feature extraction model"
      ],
      "metadata": {
        "id": "w7T78PbeVvh_"
      }
    },
    {
      "cell_type": "code",
      "source": [
        "#create Resnet model\n",
        "resnet_model = create_model(resnet_url,\n",
        "                            num_classes=train_data_10_percent.num_classes)"
      ],
      "metadata": {
        "id": "4kX75-NEWRmN"
      },
      "execution_count": null,
      "outputs": []
    },
    {
      "cell_type": "code",
      "source": [
        "#compile model\n",
        "resnet_model.compile(loss=\"categorical_crossentropy\",\n",
        "                     optimizer=tf.keras.optimizers.Adam(),\n",
        "                     metrics=[\"accuracy\"])"
      ],
      "metadata": {
        "id": "hordjSNbXgQ9"
      },
      "execution_count": null,
      "outputs": []
    },
    {
      "cell_type": "code",
      "source": [
        "#fit model\n",
        "resnet_history= resnet_model.fit(train_data_10_percent, epochs=5,\n",
        "                 steps_per_epoch = len(train_data_10_percent),\n",
        "                 validation_data = test_data_10_percent,\n",
        "                 validation_steps= len(train_data_10_percent),\n",
        "                 callbacks=[create_tensorboard_callback(dir_name=\"tensorflow_hub\",\n",
        "                                                       experiment_name=\"resnet50v2\"\n",
        "                                                       )])"
      ],
      "metadata": {
        "colab": {
          "base_uri": "https://localhost:8080/"
        },
        "id": "_ryikjvTYJOc",
        "outputId": "ab0d0804-9614-45fe-f5ff-4cc5b0b6091c"
      },
      "execution_count": null,
      "outputs": [
        {
          "output_type": "stream",
          "name": "stdout",
          "text": [
            "Saving TensorBoard log files to: tensorflow_hub/resnet50v2/20221004-095524\n",
            "Epoch 1/5\n",
            "24/24 [==============================] - 15s 430ms/step - loss: 1.8643 - accuracy: 0.3800 - val_loss: 1.1661 - val_accuracy: 0.6380\n",
            "Epoch 2/5\n",
            "24/24 [==============================] - 9s 380ms/step - loss: 0.8998 - accuracy: 0.7267 - val_loss: 0.8886 - val_accuracy: 0.7122\n",
            "Epoch 3/5\n",
            "24/24 [==============================] - 9s 378ms/step - loss: 0.6265 - accuracy: 0.8027 - val_loss: 0.7802 - val_accuracy: 0.7448\n",
            "Epoch 4/5\n",
            "24/24 [==============================] - 9s 381ms/step - loss: 0.4797 - accuracy: 0.8720 - val_loss: 0.6772 - val_accuracy: 0.7812\n",
            "Epoch 5/5\n",
            "24/24 [==============================] - 9s 379ms/step - loss: 0.3883 - accuracy: 0.9107 - val_loss: 0.7582 - val_accuracy: 0.7630\n"
          ]
        }
      ]
    },
    {
      "cell_type": "code",
      "source": [
        "resnet_model.summary()"
      ],
      "metadata": {
        "colab": {
          "base_uri": "https://localhost:8080/"
        },
        "id": "4QPx4MAVWts1",
        "outputId": "e98b0384-d490-41c3-9fb3-5d53f3face4a"
      },
      "execution_count": null,
      "outputs": [
        {
          "output_type": "stream",
          "name": "stdout",
          "text": [
            "Model: \"sequential\"\n",
            "_________________________________________________________________\n",
            " Layer (type)                Output Shape              Param #   \n",
            "=================================================================\n",
            " feature_extraction_layer (K  (None, 512)              829536    \n",
            " erasLayer)                                                      \n",
            "                                                                 \n",
            " output_layer (Dense)        (None, 10)                5130      \n",
            "                                                                 \n",
            "=================================================================\n",
            "Total params: 834,666\n",
            "Trainable params: 5,130\n",
            "Non-trainable params: 829,536\n",
            "_________________________________________________________________\n"
          ]
        }
      ]
    },
    {
      "cell_type": "code",
      "source": [
        "#lets create a function to plot loss curves \n",
        "import matplotlib.pyplot as plt\n",
        "\n",
        "def plot_loss_curves(history):\n",
        "  \"\"\"\n",
        "  Returns separate loss curves for training and validation metrics.\n",
        "  \"\"\" \n",
        "  loss = history.history['loss']\n",
        "  val_loss = history.history['val_loss']\n",
        "\n",
        "  accuracy = history.history['accuracy']\n",
        "  val_accuracy = history.history['val_accuracy']\n",
        "\n",
        "  epochs = range(len(history.history['loss']))\n",
        "\n",
        "  # Plot loss\n",
        "  plt.plot(epochs, loss, label='training_loss')\n",
        "  plt.plot(epochs, val_loss, label='val_loss')\n",
        "  plt.title('Loss')\n",
        "  plt.xlabel('Epochs')\n",
        "  plt.legend()\n",
        "\n",
        "  # Plot accuracy\n",
        "  plt.figure()\n",
        "  plt.plot(epochs, accuracy, label='training_accuracy')\n",
        "  plt.plot(epochs, val_accuracy, label='val_accuracy')\n",
        "  plt.title('Accuracy')\n",
        "  plt.xlabel('Epochs')\n",
        "  plt.legend();"
      ],
      "metadata": {
        "id": "oAu1lJsFc6eU"
      },
      "execution_count": null,
      "outputs": []
    },
    {
      "cell_type": "code",
      "source": [
        "plot_loss_curves(resnet_history)"
      ],
      "metadata": {
        "colab": {
          "base_uri": "https://localhost:8080/",
          "height": 573
        },
        "id": "yFwxGmtchX6p",
        "outputId": "492fed57-4c09-4525-d7bf-165070d4f1f3"
      },
      "execution_count": null,
      "outputs": [
        {
          "output_type": "display_data",
          "data": {
            "text/plain": [
              "<Figure size 432x288 with 1 Axes>"
            ],
            "image/png": "[encoded data removed]"
          },
          "metadata": {
            "needs_background": "light"
          }
        },
        {
          "output_type": "display_data",
          "data": {
            "text/plain": [
              "<Figure size 432x288 with 1 Axes>"
            ],
            "image/png": "[encoded data removed]"
          },
          "metadata": {
            "needs_background": "light"
          }
        }
      ]
    },
    {
      "cell_type": "markdown",
      "source": [
        "###Creating efficient net\n"
      ],
      "metadata": {
        "id": "hBoMQBLvh5RL"
      }
    },
    {
      "cell_type": "code",
      "source": [
        "#Create model\n",
        "efficientnet_model= create_model(efficientsnet_url,\n",
        "                                 num_classes=train_data_10_percent.num_classes)"
      ],
      "metadata": {
        "id": "zbV0ucUeh8bt"
      },
      "execution_count": null,
      "outputs": []
    },
    {
      "cell_type": "code",
      "source": [
        "#compile model\n",
        "efficientnet_model.compile(loss=\"categorical_crossentropy\",\n",
        "                     optimizer=tf.keras.optimizers.Adam(),\n",
        "                     metrics=[\"accuracy\"])"
      ],
      "metadata": {
        "id": "qtl4KjediQ8q"
      },
      "execution_count": null,
      "outputs": []
    },
    {
      "cell_type": "code",
      "source": [
        "#fit model\n",
        "efficientnet_history= efficientnet_model.fit(train_data_10_percent, epochs=5,\n",
        "                 steps_per_epoch = len(train_data_10_percent),\n",
        "                 validation_data = test_data_10_percent,\n",
        "                 validation_steps= len(train_data_10_percent),\n",
        "                 callbacks=[create_tensorboard_callback(dir_name=\"tensorflow_hub\",\n",
        "                                                       experiment_name=\"efficientnetb0\"\n",
        "                                                       )])"
      ],
      "metadata": {
        "colab": {
          "base_uri": "https://localhost:8080/"
        },
        "id": "qqJtEBfmi4VX",
        "outputId": "587b1baa-d847-4cb5-c2c1-d7406d8b0a3a"
      },
      "execution_count": null,
      "outputs": [
        {
          "output_type": "stream",
          "name": "stdout",
          "text": [
            "Saving TensorBoard log files to: tensorflow_hub/efficientnetb0/20221004-104041\n",
            "Epoch 1/5\n",
            "24/24 [==============================] - 13s 409ms/step - loss: 1.8931 - accuracy: 0.4120 - val_loss: 1.3425 - val_accuracy: 0.6862\n",
            "Epoch 2/5\n",
            "24/24 [==============================] - 9s 371ms/step - loss: 1.0944 - accuracy: 0.7520 - val_loss: 0.9013 - val_accuracy: 0.7982\n",
            "Epoch 3/5\n",
            "24/24 [==============================] - 7s 309ms/step - loss: 0.7822 - accuracy: 0.8160 - val_loss: 0.7831 - val_accuracy: 0.7799\n",
            "Epoch 4/5\n",
            "24/24 [==============================] - 7s 306ms/step - loss: 0.6297 - accuracy: 0.8587 - val_loss: 0.6332 - val_accuracy: 0.8398\n",
            "Epoch 5/5\n",
            "24/24 [==============================] - 7s 309ms/step - loss: 0.5341 - accuracy: 0.8907 - val_loss: 0.5917 - val_accuracy: 0.8490\n"
          ]
        }
      ]
    },
    {
      "cell_type": "code",
      "source": [
        "plot_loss_curves(efficientnet_history)"
      ],
      "metadata": {
        "colab": {
          "base_uri": "https://localhost:8080/",
          "height": 573
        },
        "id": "jbaIBpWemEHi",
        "outputId": "95b7aa42-45e6-4c6e-b3a9-43a193fdaeaf"
      },
      "execution_count": null,
      "outputs": [
        {
          "output_type": "display_data",
          "data": {
            "text/plain": [
              "<Figure size 432x288 with 1 Axes>"
            ],
            "image/png": "[encoded data removed]"
          },
          "metadata": {
            "needs_background": "light"
          }
        },
        {
          "output_type": "display_data",
          "data": {
            "text/plain": [
              "<Figure size 432x288 with 1 Axes>"
            ],
            "image/png": "[encoded data removed]"
          },
          "metadata": {
            "needs_background": "light"
          }
        }
      ]
    },
    {
      "cell_type": "code",
      "source": [
        "### creating a helper functions\n"
      ],
      "metadata": {
        "id": "PPpslyK7m40v"
      },
      "execution_count": null,
      "outputs": []
    }
  ]
}